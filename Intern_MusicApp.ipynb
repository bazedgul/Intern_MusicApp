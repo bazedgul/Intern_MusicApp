{
  "nbformat": 4,
  "nbformat_minor": 0,
  "metadata": {
    "colab": {
      "provenance": [],
      "authorship_tag": "ABX9TyOS5+F6CTj3K0xZXZmuqtzc",
      "include_colab_link": true
    },
    "kernelspec": {
      "name": "python3",
      "display_name": "Python 3"
    },
    "language_info": {
      "name": "python"
    }
  },
  "cells": [
    {
      "cell_type": "markdown",
      "metadata": {
        "id": "view-in-github",
        "colab_type": "text"
      },
      "source": [
        "<a href=\"https://colab.research.google.com/github/bazedgul/Intern_MusicApp/blob/main/Intern_MusicApp.ipynb\" target=\"_parent\"><img src=\"https://colab.research.google.com/assets/colab-badge.svg\" alt=\"Open In Colab\"/></a>"
      ]
    },
    {
      "cell_type": "code",
      "execution_count": null,
      "metadata": {
        "id": "FPNwgT42LYSp"
      },
      "outputs": [],
      "source": [
        "!pip install pygame gradio\n"
      ]
    },
    {
      "cell_type": "code",
      "source": [
        "import os\n",
        "import pygame\n",
        "import gradio as gr\n",
        "\n",
        "# Initialize Pygame mixer with specific parameters\n",
        "try:\n",
        "    pygame.mixer.init(frequency=22050, size=-16, channels=2, buffer=4096)\n",
        "except pygame.error as e:\n",
        "    print(f\"Error initializing Pygame mixer: {e}\")\n",
        "\n",
        "def play_music(file_path):\n",
        "    try:\n",
        "        if os.path.exists(file_path):\n",
        "            pygame.mixer.music.load(file_path)\n",
        "            pygame.mixer.music.play()\n",
        "            return f\"Playing {os.path.basename(file_path)}\"\n",
        "        else:\n",
        "            return \"File not found.\"\n",
        "    except Exception as e:\n",
        "        return str(e)\n",
        "\n",
        "def stop_music():\n",
        "    pygame.mixer.music.stop()\n",
        "    return \"Music stopped.\"\n",
        "\n",
        "def pause_music():\n",
        "    pygame.mixer.music.pause()\n",
        "    return \"Music paused.\"\n",
        "\n",
        "def unpause_music():\n",
        "    pygame.mixer.music.unpause()\n",
        "    return \"Music unpaused.\"\n",
        "\n",
        "def set_volume(volume):\n",
        "    pygame.mixer.music.set_volume(volume)\n",
        "    return f\"Volume set to {volume}\"\n",
        "\n",
        "# Gradio interface\n",
        "play_interface = gr.Interface(\n",
        "    fn=play_music,\n",
        "    inputs=gr.Audio(label=\"Select audio file\", type=\"filepath\"),\n",
        "    outputs=\"text\",\n",
        "    title=\"Music Player\",\n",
        "    description=\"Select an audio file to play.\"\n",
        ")\n",
        "\n",
        "stop_interface = gr.Interface(\n",
        "    fn=stop_music,\n",
        "    inputs=None,\n",
        "    outputs=\"text\",\n",
        "    title=\"Music Player\",\n",
        "    description=\"Stop the currently playing music.\"\n",
        ")\n",
        "\n",
        "pause_interface = gr.Interface(\n",
        "    fn=pause_music,\n",
        "    inputs=None,\n",
        "    outputs=\"text\",\n",
        "    title=\"Music Player\",\n",
        "    description=\"Pause the currently playing music.\"\n",
        ")\n",
        "\n",
        "unpause_interface = gr.Interface(\n",
        "    fn=unpause_music,\n",
        "    inputs=None,\n",
        "    outputs=\"text\",\n",
        "    title=\"Music Player\",\n",
        "    description=\"Unpause the currently playing music.\"\n",
        ")\n",
        "\n",
        "volume_interface = gr.Interface(\n",
        "    fn=set_volume,\n",
        "    inputs=gr.Slider(0.0, 1.0, step=0.1, label=\"Volume\"),\n",
        "    outputs=\"text\",\n",
        "    title=\"Music Player\",\n",
        "    description=\"Set the volume for the music player.\"\n",
        ")\n",
        "\n",
        "# Combine interfaces\n",
        "iface = gr.TabbedInterface(\n",
        "    [play_interface, stop_interface, pause_interface, unpause_interface, volume_interface],\n",
        "    [\"Play\", \"Stop\", \"Pause\", \"Unpause\", \"Volume\"]\n",
        ")\n",
        "\n",
        "iface.launch()\n"
      ],
      "metadata": {
        "colab": {
          "base_uri": "https://localhost:8080/",
          "height": 643
        },
        "id": "O6_kKGErLb80",
        "outputId": "50d672ab-67ad-454b-f7fd-b119467f0b79"
      },
      "execution_count": 3,
      "outputs": [
        {
          "output_type": "stream",
          "name": "stdout",
          "text": [
            "Error initializing Pygame mixer: ALSA: Couldn't open audio device: No such file or directory\n",
            "Setting queue=True in a Colab notebook requires sharing enabled. Setting `share=True` (you can turn this off by setting `share=False` in `launch()` explicitly).\n",
            "\n",
            "Colab notebook detected. To show errors in colab notebook, set debug=True in launch()\n",
            "Running on public URL: https://01c0a288edb8760c20.gradio.live\n",
            "\n",
            "This share link expires in 72 hours. For free permanent hosting and GPU upgrades, run `gradio deploy` from Terminal to deploy to Spaces (https://huggingface.co/spaces)\n"
          ]
        },
        {
          "output_type": "display_data",
          "data": {
            "text/plain": [
              "<IPython.core.display.HTML object>"
            ],
            "text/html": [
              "<div><iframe src=\"https://01c0a288edb8760c20.gradio.live\" width=\"100%\" height=\"500\" allow=\"autoplay; camera; microphone; clipboard-read; clipboard-write;\" frameborder=\"0\" allowfullscreen></iframe></div>"
            ]
          },
          "metadata": {}
        },
        {
          "output_type": "execute_result",
          "data": {
            "text/plain": []
          },
          "metadata": {},
          "execution_count": 3
        }
      ]
    }
  ]
}